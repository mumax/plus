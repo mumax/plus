{
 "cells": [
  {
   "cell_type": "markdown",
   "metadata": {},
   "source": [
    "Micromagnetic standard problem 4\n",
    "=============================\n",
    "\n",
    "The Problem specification can be found on https://www.ctcms.nist.gov/~rdm/mumag.org.html\n",
    "\n"
   ]
  },
  {
   "cell_type": "code",
   "execution_count": null,
   "metadata": {},
   "outputs": [],
   "source": [
    "from mumax5 import *\n",
    "from mumax5.util import show_field\n",
    "\n",
    "import matplotlib.pyplot as plt\n",
    "import numpy as np"
   ]
  },
  {
   "cell_type": "markdown",
   "metadata": {},
   "source": [
    "Construct a world containing a single magnet with the dimensions mentioned in the problem specification."
   ]
  },
  {
   "cell_type": "code",
   "execution_count": null,
   "metadata": {},
   "outputs": [],
   "source": [
    "length, width, thickness = 500e-9, 125e-9, 3e-9\n",
    "nx, ny, nz = 128, 32, 1\n",
    "\n",
    "world = World( cellsize=(length/nx, width/ny, thickness/nz) )\n",
    "\n",
    "magnet = world.add_ferromagnet( grid=Grid((nx, ny, nz)), name=\"my_magnet\" )\n",
    "\n",
    "magnet.msat = 800e3\n",
    "magnet.aex = 13e-12\n",
    "magnet.alpha = 0.02\n",
    "\n",
    "show_field( magnet.magnetization )"
   ]
  },
  {
   "cell_type": "markdown",
   "metadata": {},
   "source": [
    "Relax the magnetization to an 'S' state in the x direction."
   ]
  },
  {
   "cell_type": "code",
   "execution_count": null,
   "metadata": {},
   "outputs": [],
   "source": [
    "magnet.magnetization = (1, 0.1, 0)\n",
    "magnet.minimize()\n",
    "\n",
    "show_field( magnet.magnetization )"
   ]
  },
  {
   "cell_type": "markdown",
   "metadata": {},
   "source": [
    "Apply one of the two external fields mentioned in the problem specification."
   ]
  },
  {
   "cell_type": "code",
   "execution_count": null,
   "metadata": {},
   "outputs": [],
   "source": [
    "world.bias_magnetic_field = (-24.6e-3, 4.3e-3, 0)\n",
    "#world.bias_magnetic_field = (-35.5e-3, -6.3e-3, 0)"
   ]
  },
  {
   "cell_type": "markdown",
   "metadata": {},
   "source": [
    "Schedule the output by defining a list of timepoints and a table of quantities."
   ]
  },
  {
   "cell_type": "code",
   "execution_count": null,
   "metadata": {},
   "outputs": [],
   "source": [
    "timepoints = np.linspace(0, 1e-9, 200)\n",
    "\n",
    "table = Table()\n",
    "table.add(\"mx\", magnet.magnetization, 0)\n",
    "table.add(\"my\", magnet.magnetization, 1)\n",
    "table.add(\"mz\", magnet.magnetization, 2)\n",
    "table.add(\"e_total\", magnet.total_energy_density, 0)\n",
    "table.add(\"e_exchange\", magnet.exchange_energy_density, 0)\n",
    "table.add(\"e_zeeman\", magnet.zeeman_energy_density, 0)\n",
    "table.add(\"e_demag\", magnet.demag_energy_density, 0)"
   ]
  },
  {
   "cell_type": "markdown",
   "metadata": {},
   "source": [
    "Run a timesolve to evaluate the table quantities at the given time points"
   ]
  },
  {
   "cell_type": "code",
   "execution_count": null,
   "metadata": {},
   "outputs": [],
   "source": [
    "solver = TimeSolver(magnet.magnetization, magnet.torque)\n",
    "solver.solve(timepoints, table)\n",
    "\n",
    "show_field( magnet.magnetization )"
   ]
  },
  {
   "cell_type": "markdown",
   "metadata": {},
   "source": [
    "Plot the average magnetization in time."
   ]
  },
  {
   "cell_type": "code",
   "execution_count": null,
   "metadata": {},
   "outputs": [],
   "source": [
    "for key in [\"mx\", \"my\", \"mz\"]:\n",
    "    plt.plot(timepoints, table[key], label=key)\n",
    "\n",
    "plt.legend()\n",
    "plt.show()"
   ]
  },
  {
   "cell_type": "markdown",
   "metadata": {},
   "source": [
    "Plot the average energy densities"
   ]
  },
  {
   "cell_type": "code",
   "execution_count": null,
   "metadata": {},
   "outputs": [],
   "source": [
    "for key in [\"e_total\", \"e_exchange\", \"e_zeeman\", \"e_demag\"]:\n",
    "    plt.plot(timepoints, table[key], label=key)\n",
    "\n",
    "plt.legend()\n",
    "plt.show()"
   ]
  },
  {
   "cell_type": "code",
   "execution_count": null,
   "metadata": {},
   "outputs": [],
   "source": []
  }
 ],
 "metadata": {
  "kernelspec": {
   "display_name": "Python 3",
   "language": "python",
   "name": "python3"
  },
  "language_info": {
   "codemirror_mode": {
    "name": "ipython",
    "version": 3
   },
   "file_extension": ".py",
   "mimetype": "text/x-python",
   "name": "python",
   "nbconvert_exporter": "python",
   "pygments_lexer": "ipython3",
   "version": "3.7.6-final"
  }
 },
 "nbformat": 4,
 "nbformat_minor": 4
}
