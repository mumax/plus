{
 "cells": [
  {
   "cell_type": "markdown",
   "metadata": {},
   "source": [
    "# Setting a magnetization configuration\n",
    "\n",
    "The magnetization configuration of a ferromagnet can be set in different ways. This notebook demonstrates the following options to set the magnetization configuration:\n",
    "\n",
    "1. Setting a uniform magnetization\n",
    "2. Setting the magnetization using a function\n",
    "3. Using pre-defined magnetization configurations\n",
    "4. Setting the magnetization using a numpy array\n",
    "\n",
    "Let's start by creating a magnet which will be used throughout this notebook. When we use the `show_field` function to visualize the magnetization configuration, we see that the magnetization is initialized with random values."
   ]
  },
  {
   "cell_type": "code",
   "execution_count": null,
   "metadata": {},
   "outputs": [],
   "source": [
    "from mumax5 import Ferromagnet, Grid, World\n",
    "from mumax5.util import show_field\n",
    "\n",
    "world = World(cellsize=(1e-9,1e-9,1e-9))\n",
    "magnet = Ferromagnet(world, Grid((200,100,1)))\n",
    "\n",
    "show_field(magnet.magnetization)"
   ]
  },
  {
   "cell_type": "markdown",
   "metadata": {},
   "source": [
    "## 1. Setting a uniform magnetization\n",
    "\n",
    "Setting a uniform magnetization configuration is really straightforward, you just need to specify the magnetization direction using three floats:"
   ]
  },
  {
   "cell_type": "code",
   "execution_count": null,
   "metadata": {},
   "outputs": [],
   "source": [
    "magnet.magnetization = (1.0, 0.0, 1.0)\n",
    "\n",
    "show_field(magnet.magnetization)"
   ]
  },
  {
   "cell_type": "markdown",
   "metadata": {},
   "source": [
    "When the magnetization is set, mumax5 will always make sure that the magnetization field is normalized. "
   ]
  },
  {
   "cell_type": "code",
   "execution_count": null,
   "metadata": {},
   "outputs": [],
   "source": [
    "print(magnet.magnetization.average())"
   ]
  },
  {
   "cell_type": "markdown",
   "metadata": {},
   "source": [
    "## 2. Setting the magnetization using a function\n",
    "\n",
    "The magnetization confugration can be set by a function. This function should take a position (x, y, and z), and output the magnetization direction for that function. When the magnetization is set equal to this function, then this function will be evaluated cell by cell to set the magnetization field. \n",
    "\n",
    "The snippet below demonstrates how this approach can be used to initialize a helical magnetization configuration with a certain wave vector."
   ]
  },
  {
   "cell_type": "code",
   "execution_count": null,
   "metadata": {},
   "outputs": [],
   "source": [
    "import math\n",
    "\n",
    "def helical(x, y, z):\n",
    "    kx, ky = 1e8, 2e8\n",
    "    mx = math.cos(kx*x + ky*y)\n",
    "    my = math.sin(kx*x + ky*y)\n",
    "    mz = 0   \n",
    "    return mx, my, mz\n",
    "\n",
    "magnet.magnetization = helical\n",
    "\n",
    "show_field(magnet.magnetization)"
   ]
  },
  {
   "cell_type": "markdown",
   "metadata": {},
   "source": [
    "## 3. Using predefined magnetization configurations\n",
    "\n",
    "mumax5 comes with a number of predefined magnetization configurations. This configurations can be found in mumax5.util.config."
   ]
  },
  {
   "cell_type": "code",
   "execution_count": null,
   "metadata": {},
   "outputs": [],
   "source": [
    "import mumax5.util.config as config"
   ]
  },
  {
   "cell_type": "markdown",
   "metadata": {},
   "source": [
    "Below you can find an example for each predefined magnetization configuration. If you want to know how to use a certain configuration, you can always consult the `help`, e.g:"
   ]
  },
  {
   "cell_type": "code",
   "execution_count": null,
   "metadata": {},
   "outputs": [],
   "source": [
    "help(config.vortex)"
   ]
  },
  {
   "cell_type": "markdown",
   "metadata": {},
   "source": [
    "### Vortex"
   ]
  },
  {
   "cell_type": "code",
   "execution_count": null,
   "metadata": {},
   "outputs": [],
   "source": [
    "# magnet.center returns the (x,y,z) position of the center of the magnet\n",
    "# We can use this property to position the vortex at the center of the magnet\n",
    "print(magnet.center)\n",
    "\n",
    "magnet.magnetization = config.vortex(position=magnet.center,\n",
    "                                     diameter=3e-9,\n",
    "                                     circulation=1,\n",
    "                                     polarization=1)\n",
    "\n",
    "show_field(magnet.magnetization)"
   ]
  },
  {
   "cell_type": "markdown",
   "metadata": {},
   "source": [
    "### Antivortex"
   ]
  },
  {
   "cell_type": "code",
   "execution_count": null,
   "metadata": {},
   "outputs": [],
   "source": [
    "magnet.magnetization = config.antivortex(position=magnet.center,\n",
    "                                         diameter=3e-9,\n",
    "                                         circulation=1,\n",
    "                                         polarization=1)\n",
    "\n",
    "show_field(magnet.magnetization)"
   ]
  },
  {
   "cell_type": "markdown",
   "metadata": {},
   "source": [
    "### Neelskyrmion"
   ]
  },
  {
   "cell_type": "code",
   "execution_count": null,
   "metadata": {},
   "outputs": [],
   "source": [
    "magnet.magnetization = config.neelskyrmion(position=magnet.center,\n",
    "                                           radius=20e-9,\n",
    "                                           charge=1,\n",
    "                                           polarization=1)\n",
    "\n",
    "show_field(magnet.magnetization)"
   ]
  },
  {
   "cell_type": "markdown",
   "metadata": {},
   "source": [
    "### Blochskyrmion"
   ]
  },
  {
   "cell_type": "code",
   "execution_count": null,
   "metadata": {},
   "outputs": [],
   "source": [
    "magnet.magnetization = config.blochskyrmion(position=magnet.center,\n",
    "                                            radius=20e-9,\n",
    "                                            charge=1,\n",
    "                                            polarization=1)\n",
    "\n",
    "show_field(magnet.magnetization)"
   ]
  },
  {
   "cell_type": "markdown",
   "metadata": {},
   "source": [
    "## 4. Setting the magnetization using a numpy array\n",
    "\n",
    "The magnetization configuration can also be set by a numpy array. This array should match the shape of the magnetization"
   ]
  },
  {
   "cell_type": "code",
   "execution_count": null,
   "metadata": {},
   "outputs": [],
   "source": [
    "print(magnet.magnetization.shape)"
   ]
  },
  {
   "cell_type": "markdown",
   "metadata": {},
   "source": [
    "The shape of the magnetization is four dimensional with\n",
    "- index 0: the component\n",
    "- index 1: the cell index along the z direction\n",
    "- index 2: the cell index along the y direction\n",
    "- index 3: the cell index along the x direction\n",
    "\n",
    "Once you understand this convention, you can use all sorts of numpy trickery to set the magnetization configuration. E.g., the snippet below shows how to set two domain state magnetization configuration using basic numpy functionalities:"
   ]
  },
  {
   "cell_type": "code",
   "execution_count": null,
   "metadata": {},
   "outputs": [],
   "source": [
    "import numpy as np\n",
    "\n",
    "m = np.zeros(magnet.magnetization.shape)\n",
    "m[1,:,:,0:100] = 1 # set my=1 in the left half\n",
    "m[1,:,:,100:] = -1 # set my=-1 in the right half\n",
    "\n",
    "magnet.magnetization = m\n",
    "\n",
    "show_field(magnet.magnetization)"
   ]
  },
  {
   "cell_type": "markdown",
   "metadata": {},
   "source": [
    "A usefull feature is the magnetization's meshgrid which contains the spatial coordinates of all cells in a numpy array. Why this is useful is demonstrated in the snippet below:"
   ]
  },
  {
   "cell_type": "code",
   "execution_count": null,
   "metadata": {},
   "outputs": [],
   "source": [
    "m = np.zeros(magnet.magnetization.shape)\n",
    "\n",
    "x, y, z = magnet.magnetization.meshgrid\n",
    "\n",
    "m[0] = np.cos(1e8*x)\n",
    "m[1] = np.sin(1e8*x)\n",
    "m[2] = 0\n",
    "\n",
    "magnet.magnetization = m\n",
    "\n",
    "show_field(magnet.magnetization)"
   ]
  },
  {
   "cell_type": "code",
   "execution_count": null,
   "metadata": {},
   "outputs": [],
   "source": []
  }
 ],
 "metadata": {
  "@webio": {
   "lastCommId": null,
   "lastKernelId": null
  },
  "kernelspec": {
   "display_name": "Python 3",
   "language": "python",
   "name": "python3"
  },
  "language_info": {
   "codemirror_mode": {
    "name": "ipython",
    "version": 3
   },
   "file_extension": ".py",
   "mimetype": "text/x-python",
   "name": "python",
   "nbconvert_exporter": "python",
   "pygments_lexer": "ipython3",
   "version": "3.8.6"
  }
 },
 "nbformat": 4,
 "nbformat_minor": 4
}
