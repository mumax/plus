{
 "cells": [
  {
   "cell_type": "markdown",
   "metadata": {},
   "source": [
    "# Regions of a Magnet\n",
    "\n",
    "Material parameters of a magnet instance can be set by using a numpy array, allowing for inhomogeneities. This is very different compared to Mumax3, where different regions had to be used.\n",
    "The benefit of defining regions comes into play when there's a certain interaction between these different parts of a magnet, like the exchange interaction which couples nearest neighbouring simulation cells.\n",
    "\n",
    "For this reason, mumax⁺ also provides an option to define regions inside a magnetic material and set parameter values both in and between (where appropriate) different regions."
   ]
  },
  {
   "cell_type": "code",
   "execution_count": null,
   "metadata": {},
   "outputs": [],
   "source": [
    "import numpy as np"
   ]
  },
  {
   "cell_type": "markdown",
   "metadata": {},
   "source": [
    "Parameters which can be set between different regions, also have an extra scaling factor. If the parameter must not act between different regions, then this scaling factor must be set to zero by the user. If the interregional parameter is not set, then the harmonic mean of the parameter values of neighbouring cells is used."
   ]
  },
  {
   "cell_type": "markdown",
   "metadata": {},
   "source": [
    "\n",
    "Regions can be set in the same way that one would set the geometry of a magnet, one of which is using a numpy array. This array contains integer values which corresponds to region indices.\n",
    "This can be done as follows"
   ]
  },
  {
   "cell_type": "code",
   "execution_count": null,
   "metadata": {},
   "outputs": [],
   "source": [
    "from mumaxplus import Ferromagnet, Grid, World\n",
    "from mumaxplus.util import show_field\n",
    "\n",
    "world = World(cellsize=(1e-9, 1e-9, 1e-9))\n",
    "grid = Grid((5, 5, 1))\n",
    "regions = np.zeros(grid.shape)\n",
    "regions[:, :, :1] = 1\n",
    "regions[:, :, 1:2] = 2\n",
    "regions[:, :, 2:] = 3\n",
    "print(regions)\n",
    "\n",
    "magnet = Ferromagnet(world, grid, regions=regions)"
   ]
  },
  {
   "cell_type": "markdown",
   "metadata": {},
   "source": [
    "Here we have split up our magnet into 3 strips by defining three regions with region indices 1, 2 and 3 (note that these indices can take on any integer value). Now one can set parameter values in each region seperately."
   ]
  },
  {
   "cell_type": "code",
   "execution_count": null,
   "metadata": {},
   "outputs": [],
   "source": [
    "# Set parameter values for all regions\n",
    "magnet.alpha = 0.1\n",
    "magnet.msat = 800e3\n",
    "magnet.enable_demag = False\n",
    "\n",
    "magnet.msat.set_in_region(2, 1e6) # Change msat in middle strip\n",
    "\n",
    "# Set exchange constant in regions seperately\n",
    "magnet.aex.set_in_region(1, 5e-12)\n",
    "magnet.aex.set_in_region(2, 13e-12)\n",
    "magnet.aex.set_in_region(3, 20e-12)\n",
    "\n",
    "# Set exchange constant between different regions\n",
    "magnet.scale_exchange.set_between(1, 2, 0) # No exchange between first two \"strips\" of the magnet\n",
    "magnet.inter_exchange.set_between(2, 3, 15e-12)\n",
    "\n",
    "show_field(magnet.magnetization)\n",
    "\n",
    "world.timesolver.run(.1e-9)\n",
    "\n",
    "show_field(magnet.magnetization)"
   ]
  },
  {
   "cell_type": "markdown",
   "metadata": {},
   "source": [
    "Likewise, the antiferromagnetic nearest-neighbour exchange constant, `afmex_nn`, can be set in the same way."
   ]
  }
 ],
 "metadata": {
  "kernelspec": {
   "display_name": "mumaxplus",
   "language": "python",
   "name": "python3"
  },
  "language_info": {
   "name": "python",
   "version": "3.8.19"
  }
 },
 "nbformat": 4,
 "nbformat_minor": 2
}
