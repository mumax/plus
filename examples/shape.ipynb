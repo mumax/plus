{
 "cells": [
  {
   "cell_type": "markdown",
   "id": "1b117fbe-7179-4de5-bef8-2996a1c01d56",
   "metadata": {},
   "source": [
    "# Shapes"
   ]
  },
  {
   "cell_type": "markdown",
   "id": "c1a4a0ea-22c9-4858-be32-3afcc3a75431",
   "metadata": {},
   "source": [
    "#### Imports"
   ]
  },
  {
   "cell_type": "code",
   "execution_count": null,
   "id": "c53d6979-0a18-48cc-a6c4-d5a923533f6f",
   "metadata": {},
   "outputs": [],
   "source": [
    "import mumax5.util.shape as shapes\n",
    "import numpy as np\n",
    "import matplotlib.pyplot as plt\n",
    "import pyvista as pv"
   ]
  },
  {
   "cell_type": "markdown",
   "id": "aae481ab-7392-4866-91ce-837e6fbf7add",
   "metadata": {},
   "source": [
    "## What are Shapes?\n",
    "In MuMax5 you can use the util package to define shapes. Each shape is a mutable instance of the Shape class, which holds and manipulates a function. This shape function takes an (x, y, z) coordinate (in meters) and returns True if it lies within the shape. All methods called upon a shape will manipulate it. They can transform, translate or rotate the shape, or can combine it with other shapes using boolean operations. There are quite a few built-in shapes."
   ]
  },
  {
   "cell_type": "markdown",
   "id": "1ee4a1d3-7c50-4ee2-9266-106412adebde",
   "metadata": {},
   "source": [
    "For example, here `my_shape` is defined to be a basic `Circle` with a diameter of 2 (meters). To check if `(0, 0, 0)` or `(1, 1, 0)` lie within it, `my_shape` can be evaluated directly like a function."
   ]
  },
  {
   "cell_type": "code",
   "execution_count": null,
   "id": "c1af2512-e8f6-4954-a415-803852bab3a8",
   "metadata": {},
   "outputs": [],
   "source": [
    "my_shape = shapes.Circle(2)\n",
    "print(\"Is (0,0,0) within my_shape?\", my_shape(0,0,0))\n",
    "print(\"Is (1,1,0) within my_shape?\", my_shape(1,1,0))"
   ]
  },
  {
   "cell_type": "markdown",
   "id": "6d0f57df-0b09-44a3-8345-b0c123fc24ce",
   "metadata": {},
   "source": [
    "#### Plotting\n",
    "We'll need some basic code to view the shapes. To pan around in the 3D PyVista plots, you might need to install some extra stuff (namely trame):\n",
    "```bash\n",
    "pip install ipywidgets 'pyvista[all,trame]'\n",
    "```"
   ]
  },
  {
   "cell_type": "code",
   "execution_count": null,
   "id": "7d9691eb-e6a5-47ca-8543-e8aadfb095aa",
   "metadata": {},
   "outputs": [],
   "source": [
    "def plot_shape_2D(shape, x, y, title=\"\", ax=None):\n",
    "    \"\"\"Show a shape in the xy-plane at z=0, given x and y coordinate arrays. This uses matplotlib.\"\"\"\n",
    "    X, Y = np.meshgrid(x, y)\n",
    "    S = shape(X, Y, np.zeros_like(X))\n",
    "\n",
    "    show_later = False\n",
    "    if ax is None:\n",
    "        fig, ax = plt.subplots()\n",
    "        show_later = True\n",
    "        \n",
    "    dx, dy = (x[1]-x[0]), (y[1]-y[0])\n",
    "    ax.imshow(S, extent=(x[0]-0.5*dx, x[-1]+0.5*dx, y[0]-0.5*dy, y[-1]+0.5*dy), origin=\"lower\", cmap=\"binary\")\n",
    "    ax.set_xlabel(\"x\"); ax.set_ylabel(\"y\")\n",
    "    ax.set_aspect(\"equal\")\n",
    "    if len(title) > 0: ax.set_title(title)\n",
    "    if show_later: plt.show()\n",
    "\n",
    "def plot_shape_3D(shape, x, y, z, title=\"\", plotter=None):\n",
    "    \"\"\"Show a shape given x, y and z coordinate arrays. This uses PyVista.\"\"\"\n",
    "    X, Y, Z = np.meshgrid(x, y, z, indexing=\"ij\")  # the logical indexing\n",
    "    S = shape(X, Y, Z)\n",
    "    dx, dy, dz = (x[1]-x[0]), (y[1]-y[0]), (z[1]-z[0])\n",
    "    \n",
    "                 # [::-1] for [x,y,z] not [z,y,x] and +1 for cells, not points\n",
    "    image_data = pv.ImageData(dimensions=(len(x)+1, len(y)+1, len(z)+1),  \n",
    "                 spacing=(dx,dy,dz), origin=(x[0]-0.5*dx, y[0]-0.5*dy, z[0]-0.5*dz))\n",
    "    image_data.cell_data[\"values\"] = np.float32(S.flatten(\"F\"))\n",
    "    threshed = image_data.threshold_percent(0.5)  # only show True\n",
    "\n",
    "    show_later = False\n",
    "    if plotter is None:\n",
    "        plotter = pv.Plotter()\n",
    "        show_later = True\n",
    "    plotter.add_mesh(threshed, color=\"white\", show_edges=True, show_scalar_bar=False, smooth_shading=True)\n",
    "    plotter.show_axes()\n",
    "    if len(title) > 0: plotter.add_title(title)\n",
    "    if show_later: plotter.show()\n",
    "\n",
    "def plot_shape(shape, x, y, z=None, **kwargs):\n",
    "    if z is None:\n",
    "        return plot_shape_2D(shape, x, y, **kwargs)\n",
    "    return plot_shape_3D(shape, x, y, z, **kwargs)"
   ]
  },
  {
   "cell_type": "markdown",
   "id": "cd2707a6-4a20-4925-a537-628758b601b0",
   "metadata": {},
   "source": [
    "## Built-in Shapes\n",
    "Here are a few examples of basic shapes. They can be initialized like any other instance of a class, with the approprate variables. Usually one or more diameters, not radii, are expected.\n",
    "### 2D Shapes"
   ]
  },
  {
   "cell_type": "code",
   "execution_count": null,
   "id": "f9c126b3-77c0-4cd0-955f-69975ba36732",
   "metadata": {},
   "outputs": [],
   "source": [
    "fig, axes = plt.subplots(2, 2, figsize=(6, 6))\n",
    "x, y = np.linspace(-1, 1, 100), np.linspace(-1, 1, 100)\n",
    "my_shapes = [shapes.Circle(2), shapes.Ellipse(2, 1), shapes.Rectangle(1.5, 1), shapes.RegularPolygon(7, 2)]\n",
    "for shape, ax in zip(my_shapes, axes.flatten()):\n",
    "    plot_shape_2D(shape, x, y, title=shape.__class__.__name__, ax=ax)\n",
    "fig.tight_layout()\n",
    "plt.show()"
   ]
  },
  {
   "cell_type": "markdown",
   "id": "7f62d098-b859-4275-bd0d-38a814c93559",
   "metadata": {},
   "source": [
    "2D shapes are best defined in the xy-plane, but they exist in 3D aswell. The z-coordinate is simply ignored, so they extend indefinitely in the z-direction.\n",
    "#### ImageShape\n",
    "A black and white image can also be used as a shape. Black is interpreted as inside (True), white as outside (False). The centers of the bottom left and top right pixels are mapped to the given x and y coordinates."
   ]
  },
  {
   "cell_type": "code",
   "execution_count": null,
   "id": "f7da059a-7442-4555-9d50-30652ef3b8fa",
   "metadata": {},
   "outputs": [],
   "source": [
    "img_shape = shapes.ImageShape(\"shape.png\", (-0.75, -0.2), (0.75, 0.2))\n",
    "\n",
    "x = y = np.linspace(-1, 1, 256)\n",
    "plot_shape(img_shape, x,y, title=\"Image Shape\")"
   ]
  },
  {
   "cell_type": "markdown",
   "id": "d3b37434-9d8b-4d05-bf2d-97527005df99",
   "metadata": {},
   "source": [
    "### 3D Shapes"
   ]
  },
  {
   "cell_type": "code",
   "execution_count": null,
   "id": "df1f7a85-4727-448c-acf2-bee2a34a3233",
   "metadata": {},
   "outputs": [],
   "source": [
    "plotter = pv.Plotter(shape=(2,2))\n",
    "x = y = z = np.linspace(-1, 1, 32)\n",
    "my_shapes = [shapes.Ellipsoid(2, 1, 0.5), shapes.Cylinder(1.5, 1), shapes.Torus(1.5, 0.5), shapes.Icosahedron(2)]\n",
    "for i, shape in enumerate(my_shapes):\n",
    "    plotter.subplot(i//2, i%2)\n",
    "    plot_shape_3D(shape, x, y, z, title=shape.__class__.__name__, plotter=plotter)\n",
    "plotter.show()"
   ]
  },
  {
   "cell_type": "markdown",
   "id": "1b1b757a-50ea-4348-9209-a08c9af17ee7",
   "metadata": {},
   "source": [
    "All shapes are classes in mumax5.util.shape, which has been imported as \"shapes\" above. Hence, all built-in shapes can be found by\n",
    "```python\n",
    "import mumax5.util.shape as shapes\n",
    "print(dir(shapes))\n",
    "```"
   ]
  },
  {
   "cell_type": "code",
   "execution_count": null,
   "id": "53a62385-cfda-41d8-8d94-6f82ecafcb91",
   "metadata": {},
   "outputs": [],
   "source": [
    "print(dir(shapes))"
   ]
  },
  {
   "cell_type": "markdown",
   "id": "de331650-7908-46f6-a784-dde20e8b56b3",
   "metadata": {},
   "source": [
    "## Transformations\n",
    "A shape has methods to transform it. These will modify the shape on which they are called. The simplest example is a translation."
   ]
  },
  {
   "cell_type": "code",
   "execution_count": null,
   "id": "0dd816b6-56db-408d-a255-e128fd2422ae",
   "metadata": {},
   "outputs": [],
   "source": [
    "my_ellipse = shapes.Ellipse(1, 0.75)\n",
    "my_ellipse.translate_x(0.5)\n",
    "\n",
    "x = y = z = np.linspace(-1, 1, 100)\n",
    "plot_shape(my_ellipse, x, y, title=\"Translated Ellipse\")"
   ]
  },
  {
   "cell_type": "markdown",
   "id": "78c8c2ca-43ef-468d-9c3d-b25bb27a6c6b",
   "metadata": {},
   "source": [
    "`translate_y`, `translate_z` and `translate` also exist. Another transformation is the counter-clockwise rotation around a given axes in radians, such as `rotate_x`, `rotate_y` and `rotate_z`."
   ]
  },
  {
   "cell_type": "code",
   "execution_count": null,
   "id": "19dcec85-67fd-43e5-a05b-80a57ec42923",
   "metadata": {},
   "outputs": [],
   "source": [
    "my_ellipse = shapes.Ellipse(2, 1)\n",
    "my_ellipse.rotate_z(np.pi/6)\n",
    "\n",
    "x = y = z = np.linspace(-1, 1, 100)\n",
    "plot_shape(my_ellipse, x, y, title=\"Rotated Ellipse\")"
   ]
  },
  {
   "cell_type": "markdown",
   "id": "b93c84f6-18bb-4e53-ba4f-5221a905fbed",
   "metadata": {},
   "source": [
    "There are even more transformations, like `scale`, `mirror` and `repeat`, which are fairly self-explanatory. In general a $3 \\times 3$ or even $4 \\times 4$ transformation matrix can be passed to get any affine transformation. As an example, here is a sheared cylinder.\n",
    "\n",
    "**Note** that the inverse transformation will have to be used, as the coordinates (x, y, z) are transformed (passive transformation) and not the shape itself (active transformation). For example, a doubling in volume is achieved by dividing the coordinates by two: `np.diag([1/2, 1/2, 1/2])`."
   ]
  },
  {
   "cell_type": "code",
   "execution_count": null,
   "id": "487df076-0abb-44d8-ad1c-f9a56ac6a846",
   "metadata": {},
   "outputs": [],
   "source": [
    "my_cylinder = shapes.Cylinder(1, 2)\n",
    "shear_matrix = np.array([[1, 0, 0.5],\n",
    "                         [0, 1, 0],\n",
    "                         [0, 0, 1]])\n",
    "my_cylinder.transform3(shear_matrix)\n",
    "\n",
    "x = y = z = np.linspace(-1, 1, 32)\n",
    "plot_shape(my_cylinder, x, y, z, title=\"Sheared Cylinder\")"
   ]
  },
  {
   "cell_type": "markdown",
   "id": "faffa216-78d9-47ff-bd53-f46d8e5b8e7b",
   "metadata": {},
   "source": [
    "Multiple transformations can be chained together. This is possible because every transformation returns the shape itself. They are executed from left to right, like normal Python methods."
   ]
  },
  {
   "cell_type": "code",
   "execution_count": null,
   "id": "87ebc106-44fd-41ee-ba21-8a9b475c2138",
   "metadata": {},
   "outputs": [],
   "source": [
    "my_ellipse = shapes.Ellipse(1, 0.5).rotate_z(45*np.pi/180).scale(1, 2, 1).translate(0.5, 0.2, 0)\n",
    "\n",
    "x = y = z = np.linspace(-1, 1, 100)\n",
    "plot_shape(my_ellipse, x, y, title=\"Rotated Ellipse\")"
   ]
  },
  {
   "cell_type": "markdown",
   "id": "bd77debc-9827-43b1-92e4-c7e0f7de358d",
   "metadata": {},
   "source": [
    "## Combining Shapes\n",
    "Because every shape is a function returning a boolean (True or False), multiple shapes can be combined using boolean operations (and, or, not, xor). This is a technique called [Constructive Solid Geometry (CSG)](https://en.wikipedia.org/wiki/Constructive_solid_geometry)."
   ]
  },
  {
   "cell_type": "code",
   "execution_count": null,
   "id": "68592232-fa06-4f4c-af07-f602089359ab",
   "metadata": {},
   "outputs": [],
   "source": [
    "circle = shapes.Circle(1).translate_x(-0.25)\n",
    "square = shapes.Square(1).rotate_z(45*np.pi/180).translate_x(+0.25)\n",
    "\n",
    "add = circle + square\n",
    "sub = circle - square\n",
    "intersect = circle & square\n",
    "xor = circle ^ square\n",
    "\n",
    "fig, axs = plt.subplots(2, 2, figsize=(6,6))\n",
    "\n",
    "x = y = np.linspace(-1, 1, 100)\n",
    "plot_shape_2D(add, x, y, title=\"add\", ax=axs[0,0])\n",
    "plot_shape_2D(sub, x, y, title=\"subtract\", ax=axs[0,1])\n",
    "plot_shape_2D(intersect, x, y, title=\"intersect\", ax=axs[1,0])\n",
    "plot_shape_2D(xor, x, y, title=\"xor\", ax=axs[1,1])\n",
    "\n",
    "fig.tight_layout()\n",
    "plt.show()"
   ]
  },
  {
   "cell_type": "markdown",
   "id": "dbdb480d-8d58-436a-8368-b8f2ae475625",
   "metadata": {},
   "source": [
    "These operations all return a new Shape instance. If you want to modify the shape directly, you can use the methods, like `add`, `sub`, `intersect` and `xor`. You can also use inplace operators, such as `+=`, `-=`, `&=` and `^=`."
   ]
  },
  {
   "cell_type": "markdown",
   "id": "fd73a1aa-367c-407c-9895-bda8d1f3b4e2",
   "metadata": {},
   "source": [
    "## Make your own shape\n",
    "You don't need to define a shape for the purposes of defining the geometry of a magnet. A simple function will suffice. But if you want to take advantage of the implemented `Shape` methods, that's possible. You can use the base `Shape` class and give it a function. If you want to use it more often, perhaps consider making a new child class."
   ]
  },
  {
   "cell_type": "code",
   "execution_count": null,
   "id": "e1f90877-bf7d-4d0b-ab17-dda4d1d53572",
   "metadata": {},
   "outputs": [],
   "source": [
    "# A) a simple function\n",
    "def heart_function(x,y,z):\n",
    "    return (x**2 + (9/4)*(y**2) + z**2 - 1)**3 - (x**2)*(z**3) -(9/200)*(y**2)*(z**3) <= 0\n",
    "\n",
    "# B) a base Shape class instance with a custom function\n",
    "heart_shape_inst = shapes.Shape(heart_function)\n",
    "\n",
    "# C) a Heart child class instance\n",
    "class Heart(shapes.Shape):\n",
    "    def __init__(self):\n",
    "        super().__init__(heart_function)\n",
    "heart_class_inst = Heart()\n",
    "\n",
    "\n",
    "# slight transformations to keep it interesting\n",
    "heart_shape_inst.rotate_z(-45*np.pi/180)\n",
    "heart_class_inst.rotate_x(np.pi).rotate_z(-45*np.pi/180)\n",
    "\n",
    "# plotting\n",
    "plotter = pv.Plotter(shape=(1,3))\n",
    "x = y = z = np.linspace(-1.5, 1.5, 32)\n",
    "plotter.subplot(0,0)\n",
    "plot_shape(heart_function, x, y, z, title=\"function\", plotter=plotter)  # simple function\n",
    "plotter.subplot(0,1)\n",
    "plot_shape(heart_shape_inst, x, y, z, title=\"base Shape\", plotter=plotter)  # base Shape instance\n",
    "plotter.subplot(0,2)\n",
    "plot_shape(heart_class_inst, x, y, z, title=\"child class\", plotter=plotter)  # child Heart instance\n",
    "\n",
    "plotter.show()"
   ]
  },
  {
   "cell_type": "markdown",
   "id": "53d9b862-095f-409f-9795-d0bede8e0ff2",
   "metadata": {},
   "source": [
    "## Copy\n",
    "Lastly, if you ever want to use a shape in two different ways, you can copy it using the `.copy()` method."
   ]
  },
  {
   "cell_type": "code",
   "execution_count": null,
   "id": "e7e0afa9-3eb4-4d66-8f56-b466a41419f1",
   "metadata": {},
   "outputs": [],
   "source": [
    "my_shape = shapes.Ellipse(1, 0.5)\n",
    "my_shape.rotate_z(np.pi/8)\n",
    "top_shape = my_shape.copy().translate_y(0.5)  # translate a copy up\n",
    "bottom_shape = my_shape.copy().translate_y(-0.5)  # translate a different copy down\n",
    "total_shape = my_shape + top_shape + bottom_shape\n",
    "\n",
    "x = y = np.linspace(-1, 1, 100)\n",
    "plot_shape(total_shape, x, y)"
   ]
  }
 ],
 "metadata": {
  "kernelspec": {
   "display_name": "Python 3 (ipykernel)",
   "language": "python",
   "name": "python3"
  },
  "language_info": {
   "codemirror_mode": {
    "name": "ipython",
    "version": 3
   },
   "file_extension": ".py",
   "mimetype": "text/x-python",
   "name": "python",
   "nbconvert_exporter": "python",
   "pygments_lexer": "ipython3",
   "version": "3.8.19"
  }
 },
 "nbformat": 4,
 "nbformat_minor": 5
}
